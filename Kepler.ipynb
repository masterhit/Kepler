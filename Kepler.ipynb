{
 "cells": [
  {
   "cell_type": "markdown",
   "metadata": {},
   "source": [
    "# Leis de Kepler"
   ]
  },
  {
   "cell_type": "markdown",
   "metadata": {},
   "source": [
    "No século 16, Nicolau Copérnico propôs um modelo de movimento planetário centrado no Sol, em oposição ao modelo proposto na antiguidade por Ptolomeu, que tinha a Terra como centro do Universo. O modelo heliocêntrico de Copérnico ganhou força com a descrição do movimento planetário elaborada por Johannes Kepler no início do século 17. A descrição de Kepler se baseou em dados muitos precisos da posição do planeta Marte, compilados pelo astrônomo Tycho Brahe. de quem Kepler havia sido assistente. A descrição de Kepler é puramente empírica e uma explicação teórica para a dinâmica das órbitas planetárias surge apenas com a teoria da gravitação de Newton, mais tarde no século 17."
   ]
  },
  {
   "cell_type": "markdown",
   "metadata": {},
   "source": [
    "As Leis de Kepler do Movimento Planetário são:\n",
    "1. Os planetas descrevem órbitas elípicas com Sol em dos focos da elipse.\n",
    "2. A linha reta que une o planeta ao Sol varre áreas iguais em intervalos iguais.\n",
    "3. O quadrado do período orbital dos planetas (a duração do 'ano') é proporcional ao cubo do semi-eixo maior da elipse que descreve sua órbita."
   ]
  },
  {
   "cell_type": "code",
   "execution_count": null,
   "metadata": {},
   "outputs": [],
   "source": [
    "import numpy as np\n",
    "import matplotlib.pyplot as plt\n",
    "\n"
   ]
  },
  {
   "cell_type": "markdown",
   "metadata": {},
   "source": [
    "O semieixo maior das órbitas é a distância média do planeta ao Sol:\n",
    "\n",
    "$\\text{Semieixo_Maior} = \\frac{(\\text{Afelio} + \\text{Perielio})}{2}$\n.",
    "\n",
    "Pela terceira lei de Kepler:\n",
    "\n",
    "$\\text{Semieixo_Maior}^3 = k \\cdot \\text{Período_Orbital}^2$,\n",
    "\n",
    "onde, $k$ é uma constante de proporcionalidade válida para todos os planetas do Sistema Solar.\n",
    "\n",
    "Expressando as distâncias em Unidades Astronômicas e o tempo em anos ($k=1$):\n",
    "\n",
    "$\\text{Semieixo_Maior}^3 = \\text{Período_Orbital}^2$."
   ]
  }
 ],
 "metadata": {
  "kernelspec": {
   "display_name": "Python 3",
   "language": "python",
   "name": "python3"
  },
  "language_info": {
   "codemirror_mode": {
    "name": "ipython",
    "version": 3
   },
   "file_extension": ".py",
   "mimetype": "text/x-python",
   "name": "python",
   "nbconvert_exporter": "python",
   "pygments_lexer": "ipython3",
   "version": "3.7.3"
  }
 },
 "nbformat": 4,
 "nbformat_minor": 2
}
